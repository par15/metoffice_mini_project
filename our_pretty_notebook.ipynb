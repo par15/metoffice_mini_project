{
 "cells": [
  {
   "cell_type": "markdown",
   "metadata": {},
   "source": [
    "# Can we predict the temperature given humidity, pressure and wind speed?"
   ]
  },
  {
   "cell_type": "markdown",
   "metadata": {},
   "source": [
    "### Load packages and prepare the data."
   ]
  },
  {
   "cell_type": "code",
   "execution_count": 4,
   "metadata": {},
   "outputs": [],
   "source": [
    "from matplotlib import pyplot as plt\n",
    "import numpy as np\n",
    "import mogreps\n",
    "import netCDF4\n",
    "import pandas as pd\n",
    "import scipy.stats as stats\n",
    "\n",
    "\n",
    "from sklearn import datasets, linear_model\n",
    "from sklearn.metrics import mean_squared_error, r2_score"
   ]
  },
  {
   "cell_type": "code",
   "execution_count": 5,
   "metadata": {},
   "outputs": [
    {
     "ename": "FileNotFoundError",
     "evalue": "[Errno 2] No such file or directory: b'ensemble_regional_means_201401.nc'",
     "output_type": "error",
     "traceback": [
      "\u001b[0;31m---------------------------------------------------------------------------\u001b[0m",
      "\u001b[0;31mFileNotFoundError\u001b[0m                         Traceback (most recent call last)",
      "\u001b[0;32m<ipython-input-5-6cb02e5b50c1>\u001b[0m in \u001b[0;36m<module>\u001b[0;34m()\u001b[0m\n\u001b[1;32m      7\u001b[0m \u001b[0mdata_settestMar\u001b[0m \u001b[0;34m=\u001b[0m \u001b[0mnetCDF4\u001b[0m\u001b[0;34m.\u001b[0m\u001b[0mDataset\u001b[0m\u001b[0;34m(\u001b[0m\u001b[0;34m'test_data_201403_lat250_lon100.nc'\u001b[0m\u001b[0;34m)\u001b[0m\u001b[0;34m\u001b[0m\u001b[0m\n\u001b[1;32m      8\u001b[0m \u001b[0;34m\u001b[0m\u001b[0m\n\u001b[0;32m----> 9\u001b[0;31m \u001b[0mdata_set_regional\u001b[0m \u001b[0;34m=\u001b[0m \u001b[0mnetCDF4\u001b[0m\u001b[0;34m.\u001b[0m\u001b[0mDataset\u001b[0m\u001b[0;34m(\u001b[0m\u001b[0;34m'ensemble_regional_means_201401.nc'\u001b[0m\u001b[0;34m)\u001b[0m\u001b[0;34m\u001b[0m\u001b[0m\n\u001b[0m\u001b[1;32m     10\u001b[0m \u001b[0mdata_set_regional_test\u001b[0m \u001b[0;34m=\u001b[0m \u001b[0mnetCDF4\u001b[0m\u001b[0;34m.\u001b[0m\u001b[0mDataset\u001b[0m\u001b[0;34m(\u001b[0m\u001b[0;34m'regional_test_data_201401.nc'\u001b[0m\u001b[0;34m)\u001b[0m\u001b[0;34m\u001b[0m\u001b[0m\n\u001b[1;32m     11\u001b[0m \u001b[0mdata_set_regional_Feb\u001b[0m \u001b[0;34m=\u001b[0m \u001b[0mnetCDF4\u001b[0m\u001b[0;34m.\u001b[0m\u001b[0mDataset\u001b[0m\u001b[0;34m(\u001b[0m\u001b[0;34m'ensemble_regional_means_201402.nc'\u001b[0m\u001b[0;34m)\u001b[0m\u001b[0;34m\u001b[0m\u001b[0m\n",
      "\u001b[0;32mnetCDF4/_netCDF4.pyx\u001b[0m in \u001b[0;36mnetCDF4._netCDF4.Dataset.__init__\u001b[0;34m()\u001b[0m\n",
      "\u001b[0;32mnetCDF4/_netCDF4.pyx\u001b[0m in \u001b[0;36mnetCDF4._netCDF4._ensure_nc_success\u001b[0;34m()\u001b[0m\n",
      "\u001b[0;31mFileNotFoundError\u001b[0m: [Errno 2] No such file or directory: b'ensemble_regional_means_201401.nc'"
     ]
    }
   ],
   "source": [
    "#Read in the data.\n",
    "data_set = netCDF4.Dataset('ensemble_means_201401_lat250_lon100.nc')\n",
    "data_setFeb = netCDF4.Dataset('ensemble_means_201402_lat250_lon100.nc')\n",
    "data_setMar = netCDF4.Dataset('ensemble_means_201403_lat250_lon100.nc')\n",
    "data_settestJan = netCDF4.Dataset('test_data_201401_lat250_lon100.nc')\n",
    "data_settestFeb = netCDF4.Dataset('test_data_201402_lat250_lon100.nc')\n",
    "data_settestMar = netCDF4.Dataset('test_data_201403_lat250_lon100.nc')\n",
    "\n",
    "data_set_regional = netCDF4.Dataset('ensemble_regional_means_201401.nc')\n",
    "data_set_regional_test = netCDF4.Dataset('regional_test_data_201401.nc')\n",
    "data_set_regional_Feb = netCDF4.Dataset('ensemble_regional_means_201402.nc')\n",
    "data_set_regional_test_Feb = netCDF4.Dataset('regional_test_data_201402.nc')"
   ]
  },
  {
   "cell_type": "code",
   "execution_count": null,
   "metadata": {},
   "outputs": [],
   "source": [
    "#Prepare the data.\n",
    "\n",
    "temperatureJan = data_set.variables['Temperature']\n",
    "pressureJan = data_set.variables['Pressure']\n",
    "humidityJan = data_set.variables['Humidity']\n",
    "windspeedJan = data_set.variables['Wind Speed']\n",
    "\n",
    "temperatureFeb = data_setFeb.variables['Temperature']\n",
    "pressureFeb = data_setFeb.variables['Pressure']\n",
    "humidityFeb = data_setFeb.variables['Humidity']\n",
    "windspeedFeb = data_setFeb.variables['Wind Speed']\n",
    "\n",
    "temperatureMar = data_setMar.variables['Temperature']\n",
    "pressureMar = data_setMar.variables['Pressure']\n",
    "humidityMar = data_setMar.variables['Humidity']\n",
    "windspeedMar = data_setMar.variables['Wind Speed']\n",
    "\n",
    "temptestJan = data_settestJan.variables['Temperature']\n",
    "pressuretestJan = data_settestJan.variables['Pressure']\n",
    "humiditytestJan = data_settestJan.variables['Humidity']\n",
    "windspeedtestJan = data_settestJan.variables['Wind Speed']\n",
    "\n",
    "temptestFeb = data_settestFeb.variables['Temperature']\n",
    "pressuretestFeb = data_settestFeb.variables['Pressure']\n",
    "humiditytestFeb = data_settestFeb.variables['Humidity']\n",
    "windspeedtestFeb = data_settestFeb.variables['Wind Speed']\n",
    "\n",
    "temptestMar = data_settestMar.variables['Temperature']\n",
    "pressuretestMar = data_settestMar.variables['Pressure']\n",
    "humiditytestMar = data_settestMar.variables['Humidity']\n",
    "windspeedtestMar = data_settestMar.variables['Wind Speed']\n",
    "\n",
    "temptestregJan = data_set_regional_test.variables['Temperature']\n",
    "pressuretestregJan = data_set_regional_test.variables['Pressure']\n",
    "humiditytestregJan = data_set_regional_test.variables['Humidity']\n",
    "windtestregJan = data_set_regional_test.variables['Wind Speed']\n",
    "\n",
    "\n",
    "temperatureregJan = data_set_regional.variables['Temperature']\n",
    "pressureregJan = data_set_regional.variables['Pressure']\n",
    "humidityregJan = data_set_regional.variables['Humidity']\n",
    "windregJan = data_set_regional.variables['Wind Speed']\n",
    "\n",
    "temptestregFeb = data_set_regional_test_Feb.variables['Temperature']\n",
    "pressuretestregFeb = data_set_regional_test_Feb.variables['Pressure']\n",
    "humiditytestregFeb = data_set_regional_test_Feb.variables['Humidity']\n",
    "windtestregFeb = data_set_regional_test_Feb.variables['Wind Speed']\n",
    "\n",
    "\n",
    "temperatureregFeb = data_set_regional_Feb.variables['Temperature']\n",
    "pressureregFeb = data_set_regional_Feb.variables['Pressure']\n",
    "humidityregFeb = data_set_regional_Feb.variables['Humidity']\n",
    "windregFeb = data_set_regional_Feb.variables['Wind Speed']\n"
   ]
  },
  {
   "cell_type": "code",
   "execution_count": null,
   "metadata": {},
   "outputs": [],
   "source": [
    "temperature_train = np.concatenate([temperatureJan,temperatureFeb,temperatureMar])\n",
    "pressure_train = np.concatenate([pressureJan,pressureFeb,pressureMar])\n",
    "humidity_train = np.concatenate([humidityJan,humidityFeb,humidityMar])\n",
    "wind_train = np.concatenate([windspeedJan,windspeedFeb,windspeedMar])\n",
    "\n",
    "temperature_test = np.concatenate([np.mean(temptestJan,axis=1),np.mean(temptestFeb,axis=1),np.mean(temptestMar,axis=1)])\n",
    "pressure_test = np.concatenate([np.mean(pressuretestJan,axis=1),np.mean(pressuretestFeb,axis=1),np.mean(pressuretestMar,axis=1)])\n",
    "humidity_test = np.concatenate([np.mean(humiditytestJan,axis=1),np.mean(humiditytestFeb,axis=1),np.mean(humiditytestMar,axis=1)])\n",
    "wind_test = np.concatenate([np.mean(windspeedtestJan,axis=1),np.mean(windspeedtestFeb,axis=1),np.mean(windspeedtestMar,axis=1)])"
   ]
  },
  {
   "cell_type": "code",
   "execution_count": null,
   "metadata": {},
   "outputs": [],
   "source": [
    "from sklearn import datasets, linear_model\n",
    "from sklearn.metrics import mean_squared_error, r2_score\n",
    "from sklearn import neural_network\n",
    "from sklearn import svm\n"
   ]
  },
  {
   "cell_type": "markdown",
   "metadata": {},
   "source": [
    "### Take a look at the data."
   ]
  },
  {
   "cell_type": "code",
   "execution_count": null,
   "metadata": {},
   "outputs": [],
   "source": [
    "d={'humidity': humidity_train, 'pressure': pressure_train, 'wind speed': wind_train, 'temperature': temperature_train}\n",
    "df = pd.DataFrame(data=d)\n",
    "df.describe()"
   ]
  },
  {
   "cell_type": "code",
   "execution_count": null,
   "metadata": {},
   "outputs": [],
   "source": [
    "df.hist(figsize=(8,6))\n",
    "plt.show()"
   ]
  },
  {
   "cell_type": "code",
   "execution_count": null,
   "metadata": {},
   "outputs": [],
   "source": [
    "from pandas.plotting import scatter_matrix\n",
    "scatter_matrix(df,figsize=(8,6))\n",
    "plt.show()"
   ]
  },
  {
   "cell_type": "markdown",
   "metadata": {},
   "source": [
    "### Linear regression."
   ]
  },
  {
   "cell_type": "code",
   "execution_count": null,
   "metadata": {},
   "outputs": [],
   "source": [
    "predictors_train=np.stack((humidity_train,pressure_train,wind_train),axis=1)\n",
    "predictors_test=np.stack((humidity_test,pressure_test,wind_test),axis=1)\n",
    "\n",
    "# Create linear regression object\n",
    "regr = linear_model.LinearRegression()\n",
    "\n",
    "# Train the model using the training sets\n",
    "regr.fit(predictors_train,temperature_train)\n",
    "\n",
    "# Make predictions using the testing set\n",
    "temperature_pred = regr.predict(predictors_test)\n",
    "\n",
    "# The coefficients.\n",
    "print('Coefficients: \\n', regr.coef_)\n",
    "# The mean squared error.\n",
    "print(\"Mean squared error: %.2f\"\n",
    "      % mean_squared_error(temperature_test, temperature_pred))\n",
    "# Explained variance score: 1 is perfect prediction.\n",
    "print('Variance score: %.2f' % r2_score(temperature_test, temperature_pred))\n",
    "\n"
   ]
  },
  {
   "cell_type": "code",
   "execution_count": null,
   "metadata": {},
   "outputs": [],
   "source": [
    "plt.plot(temperature_test,label='Test temperature')\n",
    "plt.plot(temperature_pred,'m',label='Predicted temperature')\n",
    "plt.legend()\n",
    "plt.xlabel('Time [days]')\n",
    "plt.ylabel('Temperature [K]')\n",
    "plt.show()"
   ]
  },
  {
   "cell_type": "code",
   "execution_count": null,
   "metadata": {},
   "outputs": [],
   "source": [
    "plt.plot(np.sqrt((temperature_test-temperature_pred)**2))\n",
    "plt.xlabel('Test temperature')\n",
    "plt.ylabel('Predicted temperature')\n",
    "#plt.legend()\n",
    "plt.show()"
   ]
  },
  {
   "cell_type": "code",
   "execution_count": null,
   "metadata": {},
   "outputs": [],
   "source": [
    "plt.plot(temperature_pred - temperature_test,'rx')\n",
    "plt.show()"
   ]
  },
  {
   "cell_type": "markdown",
   "metadata": {},
   "source": [
    "# Multi-layer regression."
   ]
  },
  {
   "cell_type": "code",
   "execution_count": null,
   "metadata": {},
   "outputs": [],
   "source": [
    "#MLPRegressor\n",
    "\n",
    "# Create multilevel regression object.\n",
    "regrML = neural_network.MLPRegressor(solver='lbfgs')\n",
    "\n",
    "# Train the model using the training sets.\n",
    "regrML.fit(predictors_train,temperature_train)\n",
    "\n",
    "# Make predictions using the testing set.\n",
    "temperature_predML = regrML.predict(predictors_test)\n"
   ]
  },
  {
   "cell_type": "code",
   "execution_count": null,
   "metadata": {},
   "outputs": [],
   "source": [
    "# The coefficients.\n",
    "# The mean squared error.\n",
    "print(\"Mean squared error: %.2f\"\n",
    "      % mean_squared_error(temperature_test, temperature_predML))\n",
    "# Explained variance score: 1 is perfect prediction.\n",
    "print('Variance score: %.2f' % r2_score(temperature_test, temperature_predML))\n",
    "\n",
    "#print(regrML.n_iter_)\n",
    "print('Number of layers: %.2f' % regrML.n_layers_)"
   ]
  },
  {
   "cell_type": "code",
   "execution_count": null,
   "metadata": {},
   "outputs": [],
   "source": [
    "plt.plot(temperature_test,label='Test temperature')\n",
    "plt.plot(temperature_pred,'m',label='Predicted temperature')\n",
    "plt.plot(temperature_predML,'b',label='ML Predicted temperature')\n",
    "plt.xlabel('Time [days]')\n",
    "plt.ylabel('Temperature [K]')\n",
    "plt.legend()\n",
    "plt.show()"
   ]
  },
  {
   "cell_type": "code",
   "execution_count": null,
   "metadata": {},
   "outputs": [],
   "source": [
    "plt.plot(temperature_pred, temperature_test,'bx',label='Linear')\n",
    "plt.plot(temperature_predML, temperature_test,'rx',label='Multi-layer')\n",
    "plt.xlabel('Temperature: predicted')\n",
    "plt.ylabel('Temperature: empirical')\n",
    "plt.legend()\n",
    "plt.show()"
   ]
  },
  {
   "cell_type": "code",
   "execution_count": null,
   "metadata": {},
   "outputs": [],
   "source": [
    "plt.plot(np.sqrt((temperature_test-temperature_pred)**2),label='Linear')\n",
    "plt.plot(np.sqrt((temperature_test-temperature_predML)**2),'r',label='Multi-layer')\n",
    "plt.xlabel('Test temperature')\n",
    "plt.ylabel('Predicted temperature')\n",
    "plt.legend()\n",
    "plt.show()"
   ]
  },
  {
   "cell_type": "markdown",
   "metadata": {},
   "source": [
    "## How does machine learning compare to persistance?"
   ]
  },
  {
   "cell_type": "markdown",
   "metadata": {},
   "source": [
    "Both machine learning experiments result in quite high RMS values. We wish to see if the skill of either our linear regression or three layer neural network beat persistence. We will use temperatures from the previous day to test this."
   ]
  },
  {
   "cell_type": "code",
   "execution_count": null,
   "metadata": {},
   "outputs": [],
   "source": [
    "plt.plot(temperature_test[1:89],'b',label='Test data')\n",
    "plt.plot(temperature_test[0:88],'r',label='Persistence')\n",
    "plt.legend()\n",
    "plt.show()"
   ]
  },
  {
   "cell_type": "code",
   "execution_count": null,
   "metadata": {},
   "outputs": [],
   "source": [
    "# Plot to show square root error of each estimate\n",
    "plt.plot(np.sqrt((temperature_test-temperature_pred)**2),label='Linear regression')\n",
    "plt.plot(np.sqrt((temperature_test-temperature_predML)**2),'r',label='Multi level')\n",
    "plt.plot(np.sqrt((temperature_test[1:89]-temperature_test[0:88])**2),'k',label='Persistence')\n",
    "\n",
    "plt.xlabel('Test temperature')\n",
    "plt.ylabel('Predicted temperature')\n",
    "plt.legend()\n",
    "plt.show()"
   ]
  },
  {
   "cell_type": "code",
   "execution_count": null,
   "metadata": {},
   "outputs": [],
   "source": [
    "#np.sum((((temperature_test[1:89]-temperature_pred[1:89])/(temperature_test[1:89]-temperature_test[0:88]))**2)>1)\n",
    "np.sum((((temperature_test[1:89]-temperature_pred[1:89])/(temperature_test[1:89]-temperature_test[0:88]))**2)<1)"
   ]
  },
  {
   "cell_type": "markdown",
   "metadata": {},
   "source": [
    "Linear model beats persistence for 54 out of 89 days."
   ]
  },
  {
   "cell_type": "code",
   "execution_count": null,
   "metadata": {},
   "outputs": [],
   "source": [
    "#np.sum((((temperature_test[1:89]-temperature_pred[1:89])/(temperature_test[1:89]-temperature_test[0:88]))**2)>1)\n",
    "np.sum((((temperature_test[1:89]-temperature_predML[1:89])/(temperature_test[1:89]-temperature_test[0:88]))**2)<1)"
   ]
  },
  {
   "cell_type": "markdown",
   "metadata": {},
   "source": [
    "## Will our predictions improve if we normalise the variables? \n",
    "\n"
   ]
  },
  {
   "cell_type": "code",
   "execution_count": null,
   "metadata": {},
   "outputs": [],
   "source": [
    "#functions to normalise and denormalise the variables\n",
    "def normalize(value, min, max):\n",
    "    normalized = (value - min) / (max - min);\n",
    "    return normalized;\n",
    "\n",
    "def denormalize(normalized, min, max):\n",
    "    denormalized = (normalized * (max - min) + min);\n",
    "    return denormalized;"
   ]
  },
  {
   "cell_type": "code",
   "execution_count": null,
   "metadata": {},
   "outputs": [],
   "source": [
    "## Normalise the data sets \n",
    "\n",
    "norm_temperature_train = normalize(temperature_train,np.min(temperature_train),np.max(temperature_train))\n",
    "norm_humidity_train = normalize(humidity_train,np.min(humidity_train),np.max(humidity_train))\n",
    "norm_pressure_train = normalize(pressure_train,np.min(pressure_train),np.max(pressure_train))\n",
    "norm_wind_train = normalize(wind_train,np.min(wind_train),np.max(wind_train))\n",
    "\n",
    "norm_temperature_test = normalize(temperature_test,np.min(temperature_test),np.max(temperature_test))\n",
    "norm_humidity_test = normalize(humidity_test,np.min(humidity_test),np.max(humidity_test))\n",
    "norm_pressure_test = normalize(pressure_test,np.min(pressure_test),np.max(pressure_test))\n",
    "norm_wind_test = normalize(wind_test,np.min(wind_test),np.max(wind_test))\n",
    "\n",
    "#print(min(norm_temperature_train))"
   ]
  },
  {
   "cell_type": "code",
   "execution_count": null,
   "metadata": {},
   "outputs": [],
   "source": [
    "# Split the targets into training/testing sets.\n",
    "\n",
    "\n",
    "norm_predictors_train=np.stack((norm_humidity_train,norm_pressure_train,norm_wind_train),axis=1)\n",
    "norm_predictors_test=np.stack((norm_humidity_test,norm_pressure_test,norm_wind_test),axis=1)\n",
    "\n",
    "# Create linear regression object\n",
    "norm_regr = linear_model.LinearRegression()\n",
    "\n",
    "# Train the model using the training sets\n",
    "norm_regr.fit(norm_predictors_train,norm_temperature_train)\n",
    "\n",
    "# Make predictions using the testing set\n",
    "norm_temperature_pred = norm_regr.predict(norm_predictors_test)\n",
    "\n",
    "# The coefficients.\n",
    "print('Coefficients: \\n', norm_regr.coef_)\n",
    "# The mean squared error.\n",
    "print(\"Mean squared error: %.2f\"\n",
    "      % mean_squared_error(norm_temperature_test, norm_temperature_pred))\n",
    "# Explained variance score: 1 is perfect prediction.\n",
    "print('Variance score: %.2f' % r2_score(norm_temperature_test, norm_temperature_pred))\n"
   ]
  },
  {
   "cell_type": "code",
   "execution_count": null,
   "metadata": {},
   "outputs": [],
   "source": [
    "plt.plot(norm_temperature_test,label='Test temperature')\n",
    "plt.plot(norm_temperature_pred,'m',label='Predicted temperature')\n",
    "plt.legend()\n",
    "plt.show()"
   ]
  },
  {
   "cell_type": "code",
   "execution_count": null,
   "metadata": {},
   "outputs": [],
   "source": [
    "plt.plot(np.sqrt((temperature_test-temperature_pred)**2))\n",
    "plt.plot(np.sqrt((denormalize(norm_temperature_test,np.min(temperature_test),np.max(temperature_test))\n",
    "                  -denormalize(norm_temperature_pred,np.min(temperature_test),np.max(temperature_test)))**2),'r')\n",
    "plt.xlabel('Test temperature')\n",
    "plt.ylabel('Predicted temperature')\n",
    "plt.legend()\n",
    "plt.show()"
   ]
  },
  {
   "cell_type": "markdown",
   "metadata": {},
   "source": [
    "### No, we get exactly the same output."
   ]
  },
  {
   "cell_type": "markdown",
   "metadata": {},
   "source": [
    "# Will our results be better if we use data that is smoothed?\n",
    "\n",
    "Smoothing should remove some of the noise from our data and may make it easier for our regression/NN to obtain good results"
   ]
  },
  {
   "cell_type": "code",
   "execution_count": null,
   "metadata": {},
   "outputs": [],
   "source": [
    "humidityreg = np.concatenate([humidityregJan,humidityregFeb])\n",
    "pressurereg = np.concatenate([pressureregJan,pressureregFeb])\n",
    "temperaturereg = np.concatenate([temperatureregJan,temperatureregFeb])\n",
    "windreg = np.concatenate([windregJan,windregFeb])\n",
    "\n",
    "humiditytestreg = np.concatenate([humiditytestregJan,humiditytestregFeb])\n",
    "pressuretestreg = np.concatenate([pressuretestregJan,pressuretestregFeb])\n",
    "temperaturetestreg = np.concatenate([temptestregJan,temptestregFeb])\n",
    "windtestreg = np.concatenate([windtestregJan,windtestregFeb])"
   ]
  },
  {
   "cell_type": "code",
   "execution_count": null,
   "metadata": {},
   "outputs": [],
   "source": [
    "# Split the targets into training/testing sets.\n",
    "##temperature_train = np.array(traindata['Y'])\n",
    "#temperature_test = np.array(testdata['Y'])\n",
    "\n",
    "predictors_train_sm=np.stack((humidityreg,pressurereg,windreg),axis=1)\n",
    "predictors_test_sm=np.stack((np.mean(humiditytestreg,axis=1),np.mean(pressuretestreg,axis=1),np.mean(windtestreg,axis=1)),axis=1)\n",
    "\n",
    "# Create linear regression object\n",
    "regr_sm = linear_model.LinearRegression()\n",
    "\n",
    "# Train the model using the training sets\n",
    "regr_sm.fit(predictors_train_sm,temperaturereg)\n",
    "\n",
    "# Make predictions using the testing set\n",
    "temperature_pred_sm = regr_sm.predict(predictors_test_sm)\n",
    "\n",
    "# The coefficients.\n",
    "print('Coefficients: \\n', regr_sm.coef_)\n",
    "# The mean squared error.\n",
    "print(\"Mean squared error: %.2f\"\n",
    "      % mean_squared_error(temperaturereg, temperature_pred_sm))\n",
    "# Explained variance score: 1 is perfect prediction.\n",
    "print('Variance score: %.2f' % r2_score(temperaturereg, temperature_pred_sm))\n"
   ]
  },
  {
   "cell_type": "code",
   "execution_count": null,
   "metadata": {},
   "outputs": [],
   "source": [
    "plt.plot(np.mean(temperaturetestreg,axis=1),'b')\n",
    "plt.plot(temperature_pred_sm,'r')\n",
    "plt.show()"
   ]
  },
  {
   "cell_type": "code",
   "execution_count": null,
   "metadata": {},
   "outputs": [],
   "source": [
    "np.corrcoef(np.mean(temperaturetestreg,axis=1),temperature_pred_sm)"
   ]
  },
  {
   "cell_type": "code",
   "execution_count": null,
   "metadata": {},
   "outputs": [],
   "source": [
    "np.corrcoef(temperature_test,temperature_pred)"
   ]
  },
  {
   "cell_type": "code",
   "execution_count": null,
   "metadata": {},
   "outputs": [],
   "source": [
    "meantemptest = np.mean(temperaturetestreg,axis=1)\n",
    "\n",
    "print(np.corrcoef(meantemptest[0:29],meantemptest[1:30]))"
   ]
  },
  {
   "cell_type": "code",
   "execution_count": null,
   "metadata": {},
   "outputs": [],
   "source": [
    "plt.plot(meantemptest[0:58])\n",
    "plt.plot(meantemptest[1:59])\n",
    "plt.show()"
   ]
  },
  {
   "cell_type": "code",
   "execution_count": null,
   "metadata": {},
   "outputs": [],
   "source": [
    "plt.plot(meantemptest[0:58]-meantemptest[1:59])\n",
    "plt.show()"
   ]
  },
  {
   "cell_type": "markdown",
   "metadata": {},
   "source": [
    "# Multi level on smoothed data"
   ]
  },
  {
   "cell_type": "code",
   "execution_count": null,
   "metadata": {},
   "outputs": [],
   "source": [
    "#MLPRegressor\n",
    "\n",
    "# Create multilevel regression object\n",
    "regrML_sm = neural_network.MLPRegressor(solver='lbfgs')\n",
    "\n",
    "# Train the model using the training sets\n",
    "regrML_sm.fit(predictors_train_sm,temperaturereg)\n",
    "\n",
    "# Make predictions using the testing set\n",
    "temperature_predML_sm = regrML_sm.predict(predictors_test_sm)"
   ]
  },
  {
   "cell_type": "code",
   "execution_count": null,
   "metadata": {},
   "outputs": [],
   "source": [
    "# The coefficients.\n",
    "#print('Coefficients: \\n', regrML.coefs_)\n",
    "# The mean squared error.\n",
    "print(\"Mean squared error: %.2f\"\n",
    "      % mean_squared_error(temperaturereg, temperature_predML_sm))\n",
    "# Explained variance score: 1 is perfect prediction.\n",
    "print('Variance score: %.2f' % r2_score(temperaturereg, temperature_predML_sm))\n",
    "\n",
    "#print(regrML.intercepts_)\n",
    "print(regrML_sm.n_iter_)\n",
    "#intercepts_\n",
    "print('Number of layers: %.2f' % regrML_sm.n_layers_)"
   ]
  },
  {
   "cell_type": "code",
   "execution_count": null,
   "metadata": {},
   "outputs": [],
   "source": [
    "plt.plot(temperaturereg,'r',label='Test temperature')\n",
    "plt.plot(temperature_pred_sm,'m',label='Predicted temperature')\n",
    "plt.plot(temperature_predML_sm,'b',label='ML Predicted temperature')\n",
    "plt.legend()\n",
    "plt.show()"
   ]
  },
  {
   "cell_type": "code",
   "execution_count": null,
   "metadata": {},
   "outputs": [],
   "source": [
    "from sklearn.metrics import mean_squared_error\n",
    "from math import sqrt\n",
    "\n",
    "rms = sqrt(mean_squared_error(temperaturereg,temperature_pred_sm))\n",
    "rms"
   ]
  },
  {
   "cell_type": "code",
   "execution_count": null,
   "metadata": {},
   "outputs": [],
   "source": [
    "rmsML = sqrt(mean_squared_error(temperaturereg,temperature_predML_sm))\n",
    "rmsML"
   ]
  },
  {
   "cell_type": "code",
   "execution_count": null,
   "metadata": {},
   "outputs": [],
   "source": [
    "rmsper = sqrt(mean_squared_error(temperaturereg[0:58],temperaturereg[1:59]))\n",
    "rmsper"
   ]
  },
  {
   "cell_type": "markdown",
   "metadata": {},
   "source": [
    "# Smoothed data and a different time"
   ]
  },
  {
   "cell_type": "code",
   "execution_count": null,
   "metadata": {},
   "outputs": [],
   "source": [
    "data_set_regional_t3 = netCDF4.Dataset('ensemble_regional_means_201401_t3.nc')\n",
    "data_set_regional_test_t3 = netCDF4.Dataset('regional_test_data_201401_t3.nc')\n",
    "\n",
    "temptestreg_t3 = data_set_regional_test_t3.variables['Temperature']\n",
    "pressuretestreg_t3 = data_set_regional_test_t3.variables['Pressure']\n",
    "humiditytestreg_t3 = data_set_regional_test_t3.variables['Humidity']\n",
    "windtestreg_t3 = data_set_regional_test_t3.variables['Wind Speed']\n",
    "\n",
    "\n",
    "temperaturereg_t3 = data_set_regional_t3.variables['Temperature']\n",
    "pressurereg_t3 = data_set_regional_t3.variables['Pressure']\n",
    "humidityreg_t3 = data_set_regional_t3.variables['Humidity']\n",
    "windreg_t3 = data_set_regional_t3.variables['Wind Speed']"
   ]
  },
  {
   "cell_type": "code",
   "execution_count": null,
   "metadata": {},
   "outputs": [],
   "source": [
    "#MLPRegressor\n",
    "predictors_train_sm_t3=np.stack((humidityreg_t3,pressurereg_t3,windreg_t3),axis=1)\n",
    "predictors_test_sm_t3=np.stack((np.mean(humiditytestreg_t3,axis=1),np.mean(pressuretestreg_t3,axis=1),np.mean(windtestreg_t3,axis=1)),axis=1)\n",
    "\n",
    "\n",
    "# Create linear regression object\n",
    "regr_sm_t3 = linear_model.LinearRegression()\n",
    "\n",
    "# Train the model using the training sets\n",
    "regr_sm_t3.fit(predictors_train_sm_t3,temperaturereg_t3)\n",
    "\n",
    "# Make predictions using the testing set\n",
    "temperature_pred_sm_t3 = regr_sm_t3.predict(predictors_test_sm_t3)\n",
    "\n",
    "# The coefficients.\n",
    "print('Coefficients: \\n', regr_sm_t3.coef_)\n",
    "# The mean squared error.\n",
    "print(\"Mean squared error: %.2f\"\n",
    "      % mean_squared_error(temperaturereg_t3, temperature_pred_sm_t3))\n",
    "# Explained variance score: 1 is perfect prediction.\n",
    "print('Variance score: %.2f' % r2_score(temperaturereg_t3, temperature_pred_sm_t3))\n"
   ]
  },
  {
   "cell_type": "code",
   "execution_count": null,
   "metadata": {},
   "outputs": [],
   "source": [
    "\n",
    "\n",
    "# Create multilevel regression object\n",
    "regrML_sm_t3 = neural_network.MLPRegressor(solver='lbfgs')\n",
    "\n",
    "# Train the model using the training sets\n",
    "regrML_sm_t3.fit(predictors_train_sm_t3,temperaturereg_t3)\n",
    "\n",
    "# Make predictions using the testing set\n",
    "temperature_predML_sm_t3 = regrML_sm_t3.predict(predictors_test_sm_t3)"
   ]
  },
  {
   "cell_type": "code",
   "execution_count": null,
   "metadata": {},
   "outputs": [],
   "source": [
    "# The coefficients.\n",
    "#print('Coefficients: \\n', regrML.coefs_)\n",
    "# The mean squared error.\n",
    "print(\"Mean squared error: %.2f\"\n",
    "      % mean_squared_error(temperaturereg_t3, temperature_predML_sm_t3))\n",
    "# Explained variance score: 1 is perfect prediction.\n",
    "print('Variance score: %.2f' % r2_score(temperaturereg_t3, temperature_predML_sm_t3))\n",
    "\n",
    "#print(regrML.intercepts_)\n",
    "print(regrML_sm_t3.n_iter_)\n",
    "#intercepts_\n",
    "print('Number of layers: %.2f' % regrML_sm_t3.n_layers_)"
   ]
  },
  {
   "cell_type": "code",
   "execution_count": null,
   "metadata": {},
   "outputs": [],
   "source": [
    "rmsML_t3 = sqrt(mean_squared_error(temperaturereg_t3,temperature_predML_sm_t3))\n",
    "rmsML_t3"
   ]
  },
  {
   "cell_type": "code",
   "execution_count": null,
   "metadata": {},
   "outputs": [],
   "source": []
  },
  {
   "cell_type": "code",
   "execution_count": null,
   "metadata": {},
   "outputs": [],
   "source": []
  }
 ],
 "metadata": {
  "kernelspec": {
   "display_name": "Python 3",
   "language": "python",
   "name": "python3"
  },
  "language_info": {
   "codemirror_mode": {
    "name": "ipython",
    "version": 3
   },
   "file_extension": ".py",
   "mimetype": "text/x-python",
   "name": "python",
   "nbconvert_exporter": "python",
   "pygments_lexer": "ipython3",
   "version": "3.6.5"
  }
 },
 "nbformat": 4,
 "nbformat_minor": 2
}
